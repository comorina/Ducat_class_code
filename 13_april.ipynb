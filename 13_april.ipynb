{
 "cells": [
  {
   "cell_type": "markdown",
   "metadata": {},
   "source": [
    "## without encapsulation"
   ]
  },
  {
   "cell_type": "code",
   "execution_count": 2,
   "metadata": {},
   "outputs": [
    {
     "name": "stdout",
     "output_type": "stream",
     "text": [
      "10000\n",
      "-20000\n"
     ]
    }
   ],
   "source": [
    "class emp:\n",
    "    def __init__(self,s):\n",
    "        self.sal=s\n",
    "e=emp(10000)\n",
    "print(e.sal) "
   ]
  },
  {
   "cell_type": "markdown",
   "metadata": {},
   "source": [
    "## with encapsulation"
   ]
  },
  {
   "cell_type": "code",
   "execution_count": 11,
   "metadata": {},
   "outputs": [
    {
     "name": "stdout",
     "output_type": "stream",
     "text": [
      "101\n",
      "10000\n",
      "20000\n"
     ]
    }
   ],
   "source": [
    "class emp:\n",
    "    def __init__(self,s,i):\n",
    "        self.__sal=s  #private data member\n",
    "        self.empid=i  #public data member\n",
    "    \n",
    "    def getSal(self):\n",
    "        return self.__sal\n",
    "    \n",
    "    def setSal(self,s):\n",
    "        self.__sal=s\n",
    "        \n",
    "e=emp(10000,101)\n",
    "print(e.empid)\n",
    "#print(e.__sal) error\n",
    "print(e.getSal())\n",
    "e.setSal(20000)\n",
    "print(e.getSal())"
   ]
  },
  {
   "cell_type": "code",
   "execution_count": 16,
   "metadata": {},
   "outputs": [
    {
     "name": "stdout",
     "output_type": "stream",
     "text": [
      "10000\n",
      "-ve sal is not allowed\n",
      "10000\n"
     ]
    }
   ],
   "source": [
    "class emp:\n",
    "    def __init__(self,s):\n",
    "        self.setSal(s)\n",
    "    \n",
    "    def getSal(self):\n",
    "        return self.__sal\n",
    "    \n",
    "    def setSal(self,s):\n",
    "        if(s>0):\n",
    "            self.__sal=s\n",
    "        else:\n",
    "            print(\"-ve sal is not allowed\")\n",
    "        \n",
    "e=emp(10000)\n",
    "print(e.getSal())\n",
    "e.setSal(-20000)\n",
    "print(e.getSal())"
   ]
  },
  {
   "cell_type": "code",
   "execution_count": 19,
   "metadata": {},
   "outputs": [
    {
     "name": "stdout",
     "output_type": "stream",
     "text": [
      "getter of sal\n",
      "10000\n",
      "setter of sal\n",
      "getter of sal\n",
      "20000\n"
     ]
    }
   ],
   "source": [
    "class emp:\n",
    "    def __init__(self,s):\n",
    "        self.__sal=s\n",
    "    \n",
    "    @property\n",
    "    def sal(self):\n",
    "        print(\"getter of sal\")\n",
    "        return self.__sal\n",
    "    \n",
    "    @sal.setter\n",
    "    def sal(self,s):\n",
    "        print(\"setter of sal\")\n",
    "        if(s>0):\n",
    "            self.__sal=s\n",
    "        else:\n",
    "            print(\"-ve sal is not allowed\")\n",
    "        \n",
    "e=emp(10000)\n",
    "print(e.sal)\n",
    "e.sal=20000\n",
    "print(e.sal)"
   ]
  },
  {
   "cell_type": "code",
   "execution_count": 24,
   "metadata": {},
   "outputs": [
    {
     "name": "stdout",
     "output_type": "stream",
     "text": [
      "1\n",
      "2\n",
      "10\n",
      "20\n"
     ]
    }
   ],
   "source": [
    "class test:\n",
    "    def __init__(self):\n",
    "        self.__x=1\n",
    "        self.__y=2\n",
    "   \n",
    "    @property\n",
    "    def x(self):    #it becomes getter method of __x\n",
    "        return self.__x\n",
    "    \n",
    "    @property\n",
    "    def y(self):  #it becomes getter method of __y\n",
    "        return self.__y\n",
    "    \n",
    "    @x.setter\n",
    "    def x(self,i): #it becomes setter of __x\n",
    "        self.__x=i\n",
    "    \n",
    "    @y.setter\n",
    "    def y(self,i): #it becomes setter of __y\n",
    "        self.__y=i    \n",
    "        \n",
    "t=test()\n",
    "print(t.x)\n",
    "print(t.y)\n",
    "t.x=10\n",
    "t.y=20\n",
    "print(t.x)\n",
    "print(t.y)"
   ]
  },
  {
   "cell_type": "code",
   "execution_count": 25,
   "metadata": {},
   "outputs": [],
   "source": []
  },
  {
   "cell_type": "code",
   "execution_count": 27,
   "metadata": {},
   "outputs": [],
   "source": [
    "from abc import ABC,abstractmethod\n",
    "class acninterface(ABC):\n",
    "    \n",
    "    @abstractmethod\n",
    "    def deposit(self):\n",
    "        pass\n",
    "    \n",
    "    @abstractmethod\n",
    "    def withdraw(self):\n",
    "        pass\n",
    "    \n",
    "class account(acninterface):\n",
    "    def deposit(self):\n",
    "        print(\"amount deposited\")\n",
    "        print(\"updated bal:.....\")\n",
    "    def withdraw(self):\n",
    "        print(\"amount withdrawn\")\n",
    "        print(\"updated bal:...\")\n"
   ]
  },
  {
   "cell_type": "code",
   "execution_count": 28,
   "metadata": {},
   "outputs": [
    {
     "name": "stdout",
     "output_type": "stream",
     "text": [
      "amount deposited\n",
      "updated bal:.....\n",
      "amount withdrawn\n",
      "updated bal:...\n"
     ]
    }
   ],
   "source": [
    "a=account()\n",
    "a.deposit()\n",
    "a.withdraw()"
   ]
  },
  {
   "cell_type": "code",
   "execution_count": 34,
   "metadata": {},
   "outputs": [
    {
     "name": "stdout",
     "output_type": "stream",
     "text": [
      "this is m\n"
     ]
    }
   ],
   "source": [
    "class test(ABC):\n",
    "    @abstractmethod\n",
    "    def m(self):\n",
    "        pass\n",
    "\n",
    "class other(test):\n",
    "    def m(self):\n",
    "        print(\"this is m\")\n",
    "        \n",
    "o=other()\n",
    "o.m()"
   ]
  },
  {
   "cell_type": "markdown",
   "metadata": {},
   "source": [
    "## Garbage Collection"
   ]
  },
  {
   "cell_type": "code",
   "execution_count": 36,
   "metadata": {},
   "outputs": [],
   "source": [
    "import gc"
   ]
  },
  {
   "cell_type": "code",
   "execution_count": 37,
   "metadata": {},
   "outputs": [],
   "source": [
    "#gc.disable()\n",
    "#gc.enable()"
   ]
  },
  {
   "cell_type": "code",
   "execution_count": 38,
   "metadata": {},
   "outputs": [],
   "source": [
    "class test:\n",
    "    pass\n",
    "\n",
    "t=test()\n",
    "del t"
   ]
  },
  {
   "cell_type": "code",
   "execution_count": null,
   "metadata": {},
   "outputs": [],
   "source": []
  }
 ],
 "metadata": {
  "kernelspec": {
   "display_name": "Python 3",
   "language": "python",
   "name": "python3"
  },
  "language_info": {
   "codemirror_mode": {
    "name": "ipython",
    "version": 3
   },
   "file_extension": ".py",
   "mimetype": "text/x-python",
   "name": "python",
   "nbconvert_exporter": "python",
   "pygments_lexer": "ipython3",
   "version": "3.8.5"
  }
 },
 "nbformat": 4,
 "nbformat_minor": 4
}
