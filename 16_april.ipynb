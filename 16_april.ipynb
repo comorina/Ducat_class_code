{
 "cells": [
  {
   "cell_type": "code",
   "execution_count": 1,
   "metadata": {},
   "outputs": [
    {
     "name": "stdout",
     "output_type": "stream",
     "text": [
      "hello\n"
     ]
    },
    {
     "name": "stdin",
     "output_type": "stream",
     "text": [
      "enter num: sonu\n"
     ]
    },
    {
     "ename": "ValueError",
     "evalue": "invalid literal for int() with base 10: 'sonu'",
     "output_type": "error",
     "traceback": [
      "\u001b[1;31m---------------------------------------------------------------------------\u001b[0m",
      "\u001b[1;31mValueError\u001b[0m                                Traceback (most recent call last)",
      "\u001b[1;32m<ipython-input-1-e992dd7c352e>\u001b[0m in \u001b[0;36m<module>\u001b[1;34m\u001b[0m\n\u001b[0;32m      1\u001b[0m \u001b[0mprint\u001b[0m\u001b[1;33m(\u001b[0m\u001b[1;34m\"hello\"\u001b[0m\u001b[1;33m)\u001b[0m\u001b[1;33m\u001b[0m\u001b[1;33m\u001b[0m\u001b[0m\n\u001b[1;32m----> 2\u001b[1;33m \u001b[0mnum\u001b[0m\u001b[1;33m=\u001b[0m\u001b[0mint\u001b[0m\u001b[1;33m(\u001b[0m\u001b[0minput\u001b[0m\u001b[1;33m(\u001b[0m\u001b[1;34m\"enter num:\"\u001b[0m\u001b[1;33m)\u001b[0m\u001b[1;33m)\u001b[0m\u001b[1;33m\u001b[0m\u001b[1;33m\u001b[0m\u001b[0m\n\u001b[0m\u001b[0;32m      3\u001b[0m \u001b[1;32mif\u001b[0m\u001b[1;33m(\u001b[0m\u001b[0mnum\u001b[0m\u001b[1;33m%\u001b[0m\u001b[1;36m2\u001b[0m\u001b[1;33m==\u001b[0m\u001b[1;36m0\u001b[0m\u001b[1;33m)\u001b[0m\u001b[1;33m:\u001b[0m\u001b[1;33m\u001b[0m\u001b[1;33m\u001b[0m\u001b[0m\n\u001b[0;32m      4\u001b[0m     \u001b[0mprint\u001b[0m\u001b[1;33m(\u001b[0m\u001b[0mnum\u001b[0m\u001b[1;33m,\u001b[0m\u001b[1;34m\"is even\"\u001b[0m\u001b[1;33m)\u001b[0m\u001b[1;33m\u001b[0m\u001b[1;33m\u001b[0m\u001b[0m\n\u001b[0;32m      5\u001b[0m \u001b[1;32melse\u001b[0m\u001b[1;33m:\u001b[0m\u001b[1;33m\u001b[0m\u001b[1;33m\u001b[0m\u001b[0m\n",
      "\u001b[1;31mValueError\u001b[0m: invalid literal for int() with base 10: 'sonu'"
     ]
    }
   ],
   "source": [
    "print(\"hello\")\n",
    "num=int(input(\"enter num:\"))\n",
    "if(num%2==0):\n",
    "    print(num,\"is even\")\n",
    "else:\n",
    "    print(num,\"is odd\")\n",
    "    \n",
    "import os\n",
    "os.rename(\"d:/rossum.mp4\",\"d:/r.mp4\")\n",
    "print(\"bye\")"
   ]
  },
  {
   "cell_type": "code",
   "execution_count": 3,
   "metadata": {},
   "outputs": [
    {
     "name": "stdout",
     "output_type": "stream",
     "text": [
      "hello\n",
      "bye\n"
     ]
    },
    {
     "name": "stdin",
     "output_type": "stream",
     "text": [
      "enter num: 10\n"
     ]
    },
    {
     "name": "stdout",
     "output_type": "stream",
     "text": [
      "10 is even\n"
     ]
    }
   ],
   "source": [
    "print(\"hello\")\n",
    "from threading import Thread\n",
    "def check():\n",
    "    num=int(input(\"enter num:\"))\n",
    "    if(num%2==0):\n",
    "        print(num,\"is even\")\n",
    "    else:\n",
    "        print(num,\"is odd\")\n",
    "\n",
    "def change():\n",
    "    import os\n",
    "    os.rename(\"d:/rossum.mp4\",\"d:/r.mp4\")\n",
    "\n",
    "t1=Thread(target=check)\n",
    "t2=Thread(target=change)\n",
    "t1.start()\n",
    "t2.start()\n",
    "print(\"bye\")"
   ]
  },
  {
   "cell_type": "code",
   "execution_count": 8,
   "metadata": {},
   "outputs": [
    {
     "name": "stdout",
     "output_type": "stream",
     "text": [
      "<_MainThread(MainThread, started 4480)> in show()\n",
      "A\n",
      "B\n",
      "C\n",
      "D\n",
      "<_MainThread(MainThread, started 4480)> in disp()\n",
      "1\n",
      "2\n",
      "3\n",
      "4\n"
     ]
    }
   ],
   "source": [
    "from threading import currentThread\n",
    "def show():\n",
    "    print(currentThread(),\"in show()\")\n",
    "    print(\"A\")\n",
    "    print(\"B\")\n",
    "    print(\"C\")\n",
    "    print(\"D\")\n",
    "\n",
    "def disp():\n",
    "    print(currentThread(),\"in disp()\")\n",
    "    print(\"1\")\n",
    "    print(\"2\")\n",
    "    print(\"3\")\n",
    "    print(\"4\")\n",
    "\n",
    "show()\n",
    "disp()"
   ]
  },
  {
   "cell_type": "code",
   "execution_count": 25,
   "metadata": {},
   "outputs": [
    {
     "name": "stdout",
     "output_type": "stream",
     "text": [
      "<Thread(thread-1, started 9212)> in show()\n",
      "A\n",
      "B\n",
      "C\n",
      "D\n",
      "<Thread(thread-2, started 8980)> in disp()\n",
      "1\n",
      "2\n",
      "3\n",
      "4\n"
     ]
    }
   ],
   "source": [
    "from threading import currentThread\n",
    "def show():\n",
    "    print(currentThread(),\"in show()\")\n",
    "    print(\"A\")\n",
    "    #print(10/0)\n",
    "    print(\"B\")\n",
    "    print(\"C\")\n",
    "    print(\"D\")\n",
    "\n",
    "def disp():\n",
    "    print(currentThread(),\"in disp()\")\n",
    "    print(\"1\")\n",
    "    print(\"2\")\n",
    "    print(\"3\")\n",
    "    print(\"4\")\n",
    "\n",
    "t1=Thread(target=show,name=\"thread-1\")\n",
    "t2=Thread(target=disp,name=\"thread-2\")\n",
    "t1.start()\n",
    "t2.start()\n",
    "#t1.start()"
   ]
  },
  {
   "cell_type": "code",
   "execution_count": 29,
   "metadata": {},
   "outputs": [
    {
     "name": "stdout",
     "output_type": "stream",
     "text": [
      "hi\n",
      "bye\n"
     ]
    }
   ],
   "source": [
    "import time\n",
    "print(\"hi\")\n",
    "time.sleep(2) #pause current thread till given secs.\n",
    "print(\"bye\")"
   ]
  },
  {
   "cell_type": "code",
   "execution_count": 42,
   "metadata": {},
   "outputs": [
    {
     "name": "stdout",
     "output_type": "stream",
     "text": [
      "a\n",
      "b\n",
      "c\n",
      "da\n",
      "b\n",
      "c\n",
      "d\n",
      "e\n",
      "f\n",
      "\n",
      "e\n",
      "f\n"
     ]
    }
   ],
   "source": [
    "#Thread Implementation in OOP:\n",
    "\n",
    "class Mythread(Thread):\n",
    "    def run(self):\n",
    "        print(\"a\") \n",
    "        print(\"b\")\n",
    "        print(\"c\")\n",
    "        print(\"d\")\n",
    "        print(\"e\")\n",
    "        print(\"f\")\n",
    "\n",
    "t1=Mythread()\n",
    "t2=Mythread()\n",
    "\n",
    "t1.start()\n",
    "t2.start()"
   ]
  },
  {
   "cell_type": "code",
   "execution_count": 45,
   "metadata": {},
   "outputs": [
    {
     "name": "stdout",
     "output_type": "stream",
     "text": [
      "a\n",
      "b\n",
      "c\n",
      "1\n",
      "2\n",
      "3\n"
     ]
    }
   ],
   "source": [
    "class Mythread(Thread):\n",
    "    def run(self):\n",
    "        print(\"a\") \n",
    "        print(\"b\")\n",
    "        print(\"c\")\n",
    "\n",
    "class Yourthread(Thread):\n",
    "    def run(self):\n",
    "        print(\"1\") \n",
    "        print(\"2\")\n",
    "        print(\"3\")\n",
    "\n",
    "t1=Mythread()\n",
    "t2=Yourthread()\n",
    "t1.start()\n",
    "t2.start()"
   ]
  },
  {
   "cell_type": "code",
   "execution_count": 49,
   "metadata": {},
   "outputs": [
    {
     "name": "stdout",
     "output_type": "stream",
     "text": [
      "3x1=3\n",
      "3x2=6\n",
      "3x3=9\n",
      "3x4=12\n",
      "3x5=15\n",
      "3x6=18\n",
      "3x7=21\n",
      "3x8=24\n",
      "3x9=27\n",
      "3x10=30\n",
      "20x1=20\n",
      "20x2=40\n",
      "20x3=60\n",
      "20x4=80\n",
      "20x5=100\n",
      "20x6=120\n",
      "20x7=140\n",
      "20x8=160\n",
      "20x9=180\n",
      "20x10=200\n"
     ]
    }
   ],
   "source": [
    "#Thread Synchronization\n",
    "from threading import Lock\n",
    "lock=Lock()\n",
    "\n",
    "def printTable(num):\n",
    "    lock.acquire()\n",
    "    for i in range(1,11):\n",
    "        print(f\"{num}x{i}={num*i}\")\n",
    "        time.sleep(1)\n",
    "    lock.release()\n",
    "    \n",
    "t1=Thread(target=printTable,args=(3,))\n",
    "t2=Thread(target=printTable,args=(20,))\n",
    "t1.start()\n",
    "t2.start()"
   ]
  },
  {
   "cell_type": "code",
   "execution_count": null,
   "metadata": {},
   "outputs": [],
   "source": []
  }
 ],
 "metadata": {
  "kernelspec": {
   "display_name": "Python 3",
   "language": "python",
   "name": "python3"
  },
  "language_info": {
   "codemirror_mode": {
    "name": "ipython",
    "version": 3
   },
   "file_extension": ".py",
   "mimetype": "text/x-python",
   "name": "python",
   "nbconvert_exporter": "python",
   "pygments_lexer": "ipython3",
   "version": "3.8.5"
  }
 },
 "nbformat": 4,
 "nbformat_minor": 4
}
