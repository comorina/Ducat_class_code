{
 "cells": [
  {
   "cell_type": "code",
   "execution_count": 1,
   "metadata": {},
   "outputs": [
    {
     "name": "stdout",
     "output_type": "stream",
     "text": [
      "Collecting pymysqlNote: you may need to restart the kernel to use updated packages.\n",
      "  Downloading PyMySQL-1.0.2-py3-none-any.whl (43 kB)\n",
      "Installing collected packages: pymysql\n",
      "Successfully installed pymysql-1.0.2\n",
      "\n"
     ]
    }
   ],
   "source": [
    "pip install pymysql"
   ]
  },
  {
   "cell_type": "code",
   "execution_count": 1,
   "metadata": {},
   "outputs": [],
   "source": [
    "import pymysql as sql"
   ]
  },
  {
   "cell_type": "code",
   "execution_count": 10,
   "metadata": {},
   "outputs": [],
   "source": [
    "con=sql.connect(host=\"localhost\",user=\"root\",password=\"root\",port=3306,database=\"10to1130\")\n",
    "cursor=con.cursor()\n",
    "cursor.execute(\"insert into students values(602,'ravi',789)\")\n",
    "con.commit() #for dml queries\n",
    "con.close()"
   ]
  },
  {
   "cell_type": "code",
   "execution_count": 12,
   "metadata": {},
   "outputs": [
    {
     "name": "stdin",
     "output_type": "stream",
     "text": [
      "enter roll: 606\n",
      "enter name: abc\n",
      "enter marks: 666\n"
     ]
    },
    {
     "name": "stdout",
     "output_type": "stream",
     "text": [
      "record inserted..\n"
     ]
    }
   ],
   "source": [
    "con=sql.connect(host=\"localhost\",user=\"root\",password=\"root\",port=3306,database=\"10to1130\")\n",
    "cursor=con.cursor()\n",
    "r=int(input(\"enter roll:\"))\n",
    "n=input(\"enter name:\")\n",
    "m=int(input(\"enter marks:\"))\n",
    "\n",
    "cursor.execute(\"insert into students values(%s,%s,%s)\",(r,n,m))\n",
    "con.commit() #for dml queries\n",
    "con.close()\n",
    "print(\"record inserted..\")"
   ]
  },
  {
   "cell_type": "code",
   "execution_count": 2,
   "metadata": {},
   "outputs": [
    {
     "name": "stdout",
     "output_type": "stream",
     "text": [
      "dml executed...\n"
     ]
    }
   ],
   "source": [
    "con=sql.connect(host=\"localhost\",user=\"root\",password=\"root\",port=3306,database=\"10to1130\")\n",
    "cursor=con.cursor()\n",
    "\n",
    "cursor.execute(\"insert into students values(701,'xyz',700)\")\n",
    "cursor.execute(\"delete from students where rollno=101\")\n",
    "cursor.execute(\"update students set marks=marks+10\")\n",
    "\n",
    "con.commit() #for dml queries\n",
    "con.close()\n",
    "print(\"dml executed...\")"
   ]
  },
  {
   "cell_type": "code",
   "execution_count": 6,
   "metadata": {},
   "outputs": [
    {
     "name": "stdout",
     "output_type": "stream",
     "text": [
      "(501, 'sonu', 710)\n",
      "(555, 'ajay', 810)\n",
      "((556, 'vijay', 810), (601, 'ravi', 799))\n"
     ]
    }
   ],
   "source": [
    "con=sql.connect(host=\"localhost\",user=\"root\",password=\"root\",port=3306,database=\"10to1130\")\n",
    "cursor=con.cursor()\n",
    "#cursor.execute(\"select * from students\")\n",
    "cursor.execute(\"select * from students where marks>=600\")\n",
    "row=cursor.fetchone()\n",
    "print(row)\n",
    "row=cursor.fetchone()\n",
    "print(row)\n",
    "rows=cursor.fetchmany(2)\n",
    "print(rows)\n",
    "con.close()"
   ]
  },
  {
   "cell_type": "code",
   "execution_count": 7,
   "metadata": {},
   "outputs": [
    {
     "name": "stdout",
     "output_type": "stream",
     "text": [
      "((501, 'sonu', 710), (555, 'ajay', 810), (556, 'vijay', 810), (601, 'ravi', 799), (602, 'ravi', 799), (605, 'pintu', 696), (606, 'abc', 676), (701, 'xyz', 710))\n"
     ]
    }
   ],
   "source": [
    "con=sql.connect(host=\"localhost\",user=\"root\",password=\"root\",port=3306,database=\"10to1130\")\n",
    "cursor=con.cursor()\n",
    "cursor.execute(\"select * from students where marks>=600\")\n",
    "rows=cursor.fetchall()\n",
    "print(rows)\n",
    "con.close()"
   ]
  },
  {
   "cell_type": "code",
   "execution_count": 10,
   "metadata": {},
   "outputs": [
    {
     "name": "stdout",
     "output_type": "stream",
     "text": [
      "(501, 'sonu', 710)\n",
      "(555, 'ajay', 810)\n",
      "(556, 'vijay', 810)\n",
      "(601, 'ravi', 799)\n",
      "(602, 'ravi', 799)\n",
      "(605, 'pintu', 696)\n",
      "(606, 'abc', 676)\n",
      "(701, 'xyz', 710)\n"
     ]
    }
   ],
   "source": [
    "con=sql.connect(host=\"localhost\",user=\"root\",password=\"root\",port=3306,database=\"10to1130\")\n",
    "cursor=con.cursor()\n",
    "cursor.execute(\"select * from students where marks>=600\")\n",
    "for row in cursor:\n",
    "    print(row)\n",
    "con.close()"
   ]
  },
  {
   "cell_type": "code",
   "execution_count": 20,
   "metadata": {},
   "outputs": [
    {
     "name": "stdout",
     "output_type": "stream",
     "text": [
      "((501, 'sonu', 710), (555, 'ajay', 810), (556, 'vijay', 810), (601, 'ravi', 799), (602, 'ravi', 799), (605, 'pintu', 696), (606, 'abc', 676), (701, 'xyz', 710))\n",
      "((556, 'vijay', 810), (601, 'ravi', 799), (602, 'ravi', 799), (605, 'pintu', 696), (606, 'abc', 676), (701, 'xyz', 710))\n"
     ]
    }
   ],
   "source": [
    "con=sql.connect(host=\"localhost\",user=\"root\",password=\"root\",port=3306,database=\"10to1130\")\n",
    "cursor=con.cursor()\n",
    "cursor.execute(\"select * from students where marks>=600\")\n",
    "#cursor.scroll(0)\n",
    "rows=cursor.fetchall()\n",
    "print(rows)\n",
    "\n",
    "cursor.scroll(2,mode=\"absolute\")\n",
    "\n",
    "rows=cursor.fetchall()\n",
    "print(rows)\n",
    "\n",
    "con.close()"
   ]
  },
  {
   "cell_type": "code",
   "execution_count": null,
   "metadata": {},
   "outputs": [],
   "source": []
  }
 ],
 "metadata": {
  "kernelspec": {
   "display_name": "Python 3",
   "language": "python",
   "name": "python3"
  },
  "language_info": {
   "codemirror_mode": {
    "name": "ipython",
    "version": 3
   },
   "file_extension": ".py",
   "mimetype": "text/x-python",
   "name": "python",
   "nbconvert_exporter": "python",
   "pygments_lexer": "ipython3",
   "version": "3.8.5"
  }
 },
 "nbformat": 4,
 "nbformat_minor": 4
}
