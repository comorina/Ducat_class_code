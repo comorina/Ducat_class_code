{
 "cells": [
  {
   "cell_type": "code",
   "execution_count": 1,
   "metadata": {},
   "outputs": [
    {
     "name": "stdout",
     "output_type": "stream",
     "text": [
      "this is constructor\n",
      "this is destructor\n",
      "bye\n"
     ]
    }
   ],
   "source": [
    "import time\n",
    "class test:\n",
    "    def __init__(self):\n",
    "        print(\"this is constructor\")\n",
    "        \n",
    "    def __del__(self):\n",
    "        print(\"this is destructor\")\n",
    "        \n",
    "t=test()\n",
    "time.sleep(3)\n",
    "#t=None\n",
    "#t=test()\n",
    "del t\n",
    "time.sleep(3)\n",
    "print(\"bye\")"
   ]
  },
  {
   "cell_type": "code",
   "execution_count": 4,
   "metadata": {},
   "outputs": [
    {
     "name": "stdout",
     "output_type": "stream",
     "text": [
      "this is constructor\n",
      "this is destructor\n"
     ]
    }
   ],
   "source": [
    "class test:\n",
    "    def __init__(self):\n",
    "        print(\"this is constructor\")\n",
    "        \n",
    "    def __del__(self):\n",
    "        print(\"this is destructor\")\n",
    "        \n",
    "t1=test()\n",
    "t2=t1\n",
    "del t1\n",
    "del t2"
   ]
  },
  {
   "cell_type": "code",
   "execution_count": 5,
   "metadata": {},
   "outputs": [],
   "source": [
    "#Note-1:Garbage collection is not applicable on immutable onjects(types)\n",
    "#like:int,str,float,....\n",
    "\n",
    "#Note-2 tuple,frozenset both are immutable but sometimes gc runs on these\n",
    "#objects."
   ]
  },
  {
   "cell_type": "code",
   "execution_count": 8,
   "metadata": {},
   "outputs": [
    {
     "name": "stdout",
     "output_type": "stream",
     "text": [
      "10\n",
      "20\n",
      "30\n"
     ]
    }
   ],
   "source": [
    "class myint(int):\n",
    "    pass\n",
    "\n",
    "x=myint(10)\n",
    "y=myint(20)\n",
    "print(x)\n",
    "print(y)\n",
    "print(x+y)"
   ]
  },
  {
   "cell_type": "code",
   "execution_count": 21,
   "metadata": {},
   "outputs": [
    {
     "name": "stdout",
     "output_type": "stream",
     "text": [
      "sonu,101,10000\n",
      "monu,102,5000\n",
      "chintu,100,11000\n"
     ]
    }
   ],
   "source": [
    "class emp:\n",
    "    def __init__(self,i,s,n):\n",
    "        self.id=i\n",
    "        self.sal=s\n",
    "        self.name=n\n",
    "        \n",
    "    def __str__(self):\n",
    "        return f\"{self.name},{self.id},{self.sal}\"\n",
    "    \n",
    "    def __repr__(self):\n",
    "        return f\"{self.name},{self.id},{self.sal}\" \n",
    "        \n",
    "e1=emp(101,10000,'sonu')\n",
    "e2=emp(102,5000,'monu')\n",
    "e3=emp(100,11000,'chintu')\n",
    "\n",
    "print(e1) #print(e1.__str__())\n",
    "print(e2) #print(e2.__str__())\n",
    "print(e3) #print(e3.__str__())"
   ]
  },
  {
   "cell_type": "code",
   "execution_count": 15,
   "metadata": {},
   "outputs": [
    {
     "name": "stdout",
     "output_type": "stream",
     "text": [
      "10\n",
      "20\n"
     ]
    }
   ],
   "source": [
    "x=10\n",
    "y=20\n",
    "print(x.__str__())\n",
    "print(y.__str__())"
   ]
  },
  {
   "cell_type": "code",
   "execution_count": 19,
   "metadata": {},
   "outputs": [
    {
     "name": "stdout",
     "output_type": "stream",
     "text": [
      "[10, 5, -4, 8, 11, 6]\n",
      "[-4, 5, 6, 8, 10, 11]\n"
     ]
    }
   ],
   "source": [
    "l=[10,5,-4,8,11,6]\n",
    "print(l.__str__())\n",
    "l.sort()\n",
    "print(l)"
   ]
  },
  {
   "cell_type": "code",
   "execution_count": 30,
   "metadata": {},
   "outputs": [
    {
     "name": "stdout",
     "output_type": "stream",
     "text": [
      "[sonu,101,10000, monu,102,5000, chintu,100,11000]\n",
      "[chintu,100,11000, monu,102,5000, sonu,101,10000]\n",
      "[chintu,100,11000, sonu,101,10000, monu,102,5000]\n",
      "[monu,102,5000, sonu,101,10000, chintu,100,11000]\n"
     ]
    }
   ],
   "source": [
    "l=[e1,e2,e3]\n",
    "print(l)\n",
    "\n",
    "def empsort_name(obj):\n",
    "    return obj.name\n",
    "\n",
    "def empsort_sal(obj):\n",
    "    return obj.sal\n",
    "\n",
    "def empsort_id(obj):\n",
    "    return obj.id\n",
    "\n",
    "l.sort(key=empsort_name)\n",
    "print(l)\n",
    "\n",
    "l.sort(key=empsort_id)\n",
    "print(l)\n",
    "\n",
    "l.sort(key=empsort_sal)\n",
    "print(l)\n"
   ]
  },
  {
   "cell_type": "code",
   "execution_count": 32,
   "metadata": {},
   "outputs": [
    {
     "name": "stdout",
     "output_type": "stream",
     "text": [
      "[chintu,100,11000, monu,102,5000, sonu,101,10000]\n",
      "[monu,102,5000, sonu,101,10000, chintu,100,11000]\n",
      "[chintu,100,11000, sonu,101,10000, monu,102,5000]\n"
     ]
    }
   ],
   "source": [
    "l=[e1,e2,e3]\n",
    "\n",
    "l.sort(key=lambda obj:obj.name)\n",
    "print(l)\n",
    "\n",
    "l.sort(key=lambda obj:obj.sal)\n",
    "print(l)\n",
    "\n",
    "l.sort(key=lambda obj:obj.id)\n",
    "print(l)\n"
   ]
  },
  {
   "cell_type": "code",
   "execution_count": null,
   "metadata": {},
   "outputs": [],
   "source": []
  }
 ],
 "metadata": {
  "kernelspec": {
   "display_name": "Python 3",
   "language": "python",
   "name": "python3"
  },
  "language_info": {
   "codemirror_mode": {
    "name": "ipython",
    "version": 3
   },
   "file_extension": ".py",
   "mimetype": "text/x-python",
   "name": "python",
   "nbconvert_exporter": "python",
   "pygments_lexer": "ipython3",
   "version": "3.8.5"
  }
 },
 "nbformat": 4,
 "nbformat_minor": 4
}
