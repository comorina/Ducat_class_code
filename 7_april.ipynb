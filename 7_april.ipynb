{
 "cells": [
  {
   "cell_type": "code",
   "execution_count": 6,
   "metadata": {},
   "outputs": [
    {
     "name": "stdout",
     "output_type": "stream",
     "text": [
      "2076772872352\n",
      "2076772874992\n"
     ]
    }
   ],
   "source": [
    "class test:\n",
    "    pass\n",
    "\n",
    "class other:\n",
    "    pass\n",
    "\n",
    "i=test()\n",
    "j=other()\n",
    "print(id(i))\n",
    "print(id(j))\n"
   ]
  },
  {
   "cell_type": "code",
   "execution_count": 9,
   "metadata": {},
   "outputs": [
    {
     "name": "stdout",
     "output_type": "stream",
     "text": [
      "140718129817344\n",
      "140718129817664\n"
     ]
    }
   ],
   "source": [
    "i=int()\n",
    "print(id(i))\n",
    "\n",
    "j=10\n",
    "print(id(j))"
   ]
  },
  {
   "cell_type": "code",
   "execution_count": 10,
   "metadata": {},
   "outputs": [
    {
     "name": "stdout",
     "output_type": "stream",
     "text": [
      "[10, 20, 30]\n"
     ]
    }
   ],
   "source": [
    "l=[]\n",
    "l=list()\n",
    "print(\"hello\")"
   ]
  },
  {
   "cell_type": "code",
   "execution_count": 18,
   "metadata": {},
   "outputs": [
    {
     "name": "stdout",
     "output_type": "stream",
     "text": [
      "2076773784928\n",
      "this is show 2076773784928\n",
      "2076773784352\n",
      "this is show 2076773784352\n"
     ]
    }
   ],
   "source": [
    "class test:\n",
    "    def show(x):\n",
    "        print(\"this is show\",id(x))\n",
    "t1=test()\n",
    "print(id(t1))\n",
    "t1.show()#-------->t1.show(t1)\n",
    "\n",
    "t2=test()\n",
    "print(id(t2))\n",
    "t2.show()#-------->t2.show(t2)"
   ]
  },
  {
   "cell_type": "code",
   "execution_count": 19,
   "metadata": {},
   "outputs": [
    {
     "name": "stdout",
     "output_type": "stream",
     "text": [
      "2076773783632\n",
      "this is show 2076773783632\n",
      "2076773783824\n",
      "this is show 2076773783824\n"
     ]
    }
   ],
   "source": [
    "class test:\n",
    "    def show(self):\n",
    "        print(\"this is show\",id(self))\n",
    "t1=test()\n",
    "print(id(t1))\n",
    "t1.show()#-------->t1.show(t1)\n",
    "\n",
    "t2=test()\n",
    "print(id(t2))\n",
    "t2.show()#-------->t2.show(t2)"
   ]
  },
  {
   "cell_type": "code",
   "execution_count": 20,
   "metadata": {},
   "outputs": [],
   "source": [
    "l=[]\n",
    "l.append(10)#------>l.append(l,10)"
   ]
  },
  {
   "cell_type": "code",
   "execution_count": 24,
   "metadata": {},
   "outputs": [
    {
     "name": "stdout",
     "output_type": "stream",
     "text": [
      "amount deposited\n",
      "amount deposited\n",
      "amount deposited\n"
     ]
    }
   ],
   "source": [
    "class account:\n",
    "    def deposit(self):\n",
    "        print(\"amount deposited\")\n",
    "\n",
    "a1=account()\n",
    "a1.deposit()\n",
    "a1.deposit()\n",
    "a2=account()\n",
    "a2.deposit()"
   ]
  },
  {
   "cell_type": "code",
   "execution_count": 27,
   "metadata": {},
   "outputs": [
    {
     "name": "stdout",
     "output_type": "stream",
     "text": [
      "this is cons\n",
      "this is cons\n",
      "this is cons\n"
     ]
    },
    {
     "data": {
      "text/plain": [
       "<__main__.account at 0x1e38b745fd0>"
      ]
     },
     "execution_count": 27,
     "metadata": {},
     "output_type": "execute_result"
    }
   ],
   "source": [
    "class account:\n",
    "    def __init__(self):\n",
    "        print(\"this is cons\")\n",
    "        \n",
    "    def deposit(self):\n",
    "        print(\"amount deposited\")\n",
    "    \n",
    "a1=account()\n",
    "a2=account()"
   ]
  },
  {
   "cell_type": "code",
   "execution_count": 32,
   "metadata": {},
   "outputs": [
    {
     "name": "stdout",
     "output_type": "stream",
     "text": [
      "101 1000\n",
      "101 1000\n"
     ]
    }
   ],
   "source": [
    "class account:\n",
    "    def __init__(self):\n",
    "        self.acn=101\n",
    "        self.bal=1000\n",
    "        \n",
    "    def deposit(self):\n",
    "        print(\"amount deposited\")\n",
    "    \n",
    "a1=account()\n",
    "print(a1.acn,a1.bal)\n",
    "\n",
    "a2=account()\n",
    "print(a2.acn,a2.bal)"
   ]
  },
  {
   "cell_type": "code",
   "execution_count": 34,
   "metadata": {},
   "outputs": [
    {
     "name": "stdout",
     "output_type": "stream",
     "text": [
      "101 1000\n",
      "102 2000\n"
     ]
    }
   ],
   "source": [
    "class account:\n",
    "    def __init__(self,a,b):\n",
    "        self.acn=a\n",
    "        self.bal=b\n",
    "        \n",
    "    def deposit(self):\n",
    "        print(\"amount deposited\")\n",
    "    \n",
    "a1=account(101,1000)\n",
    "print(a1.acn,a1.bal)\n",
    "\n",
    "a2=account(102,2000)\n",
    "print(a2.acn,a2.bal)"
   ]
  },
  {
   "cell_type": "code",
   "execution_count": 48,
   "metadata": {},
   "outputs": [
    {
     "name": "stdout",
     "output_type": "stream",
     "text": [
      "*******\n",
      "Account no:101\n",
      "Balance:1000\n",
      "*****\n",
      "101 1000\n",
      "*******\n",
      "Account no:102\n",
      "Balance:1000\n",
      "*****\n",
      "102 1000\n",
      "amount deposited\n",
      "amount deposited\n",
      "amount deposited\n",
      "1800\n",
      "1100\n",
      "amount withdrawn\n",
      "amount withdrawn\n",
      "*******\n",
      "Account no:101\n",
      "Balance:1700\n",
      "*****\n",
      "*******\n",
      "Account no:102\n",
      "Balance:1050\n",
      "*****\n"
     ]
    }
   ],
   "source": [
    "class account:\n",
    "    def __init__(self,a):\n",
    "        self.acn=a\n",
    "        self.bal=1000\n",
    "        \n",
    "    def deposit(self,amt):\n",
    "        self.bal=self.bal+amt\n",
    "        print(\"amount deposited\")\n",
    "    \n",
    "    def withdraw(self,amt):\n",
    "        self.bal=self.bal-amt\n",
    "        print(\"amount withdrawn\")\n",
    "        \n",
    "    def details(self):\n",
    "        print(f\"*******\\nAccount no:{self.acn}\\nBalance:{self.bal}\\n*****\")\n",
    "        \n",
    "a1=account(101)\n",
    "a1.details()\n",
    "print(a1.acn,a1.bal)\n",
    "\n",
    "a2=account(102)\n",
    "a2.details()\n",
    "print(a2.acn,a2.bal)\n",
    "\n",
    "a1.deposit(500)\n",
    "a1.deposit(300)\n",
    "a2.deposit(100)\n",
    "print(a1.bal)\n",
    "print(a2.bal)\n",
    "a1.withdraw(100)\n",
    "a2.withdraw(50)\n",
    "a1.details()\n",
    "a2.details()"
   ]
  },
  {
   "cell_type": "code",
   "execution_count": 43,
   "metadata": {},
   "outputs": [],
   "source": [
    "a1.doo=\"4th april 2021\"\n",
    "a2.doo=\"...\""
   ]
  },
  {
   "cell_type": "code",
   "execution_count": 44,
   "metadata": {},
   "outputs": [
    {
     "name": "stdout",
     "output_type": "stream",
     "text": [
      "101 1700 4th april 2021\n"
     ]
    }
   ],
   "source": [
    "print(a1.acn,a1.bal,a1.doo)"
   ]
  },
  {
   "cell_type": "code",
   "execution_count": 45,
   "metadata": {},
   "outputs": [
    {
     "ename": "AttributeError",
     "evalue": "'account' object has no attribute 'doo'",
     "output_type": "error",
     "traceback": [
      "\u001b[1;31m---------------------------------------------------------------------------\u001b[0m",
      "\u001b[1;31mAttributeError\u001b[0m                            Traceback (most recent call last)",
      "\u001b[1;32m<ipython-input-45-b6b0d24d7f08>\u001b[0m in \u001b[0;36m<module>\u001b[1;34m\u001b[0m\n\u001b[1;32m----> 1\u001b[1;33m \u001b[0mprint\u001b[0m\u001b[1;33m(\u001b[0m\u001b[0ma2\u001b[0m\u001b[1;33m.\u001b[0m\u001b[0macn\u001b[0m\u001b[1;33m,\u001b[0m\u001b[0ma2\u001b[0m\u001b[1;33m.\u001b[0m\u001b[0mbal\u001b[0m\u001b[1;33m,\u001b[0m\u001b[0ma2\u001b[0m\u001b[1;33m.\u001b[0m\u001b[0mdoo\u001b[0m\u001b[1;33m)\u001b[0m\u001b[1;33m\u001b[0m\u001b[1;33m\u001b[0m\u001b[0m\n\u001b[0m",
      "\u001b[1;31mAttributeError\u001b[0m: 'account' object has no attribute 'doo'"
     ]
    }
   ],
   "source": [
    "print(a2.acn,a2.bal,a2.doo)"
   ]
  },
  {
   "cell_type": "code",
   "execution_count": 46,
   "metadata": {},
   "outputs": [
    {
     "ename": "TypeError",
     "evalue": "add() missing 1 required positional argument: 'z'",
     "output_type": "error",
     "traceback": [
      "\u001b[1;31m---------------------------------------------------------------------------\u001b[0m",
      "\u001b[1;31mTypeError\u001b[0m                                 Traceback (most recent call last)",
      "\u001b[1;32m<ipython-input-46-91176254cb53>\u001b[0m in \u001b[0;36m<module>\u001b[1;34m\u001b[0m\n\u001b[0;32m      5\u001b[0m     \u001b[0mprint\u001b[0m\u001b[1;33m(\u001b[0m\u001b[0mx\u001b[0m\u001b[1;33m+\u001b[0m\u001b[0my\u001b[0m\u001b[1;33m+\u001b[0m\u001b[0mz\u001b[0m\u001b[1;33m)\u001b[0m\u001b[1;33m\u001b[0m\u001b[1;33m\u001b[0m\u001b[0m\n\u001b[0;32m      6\u001b[0m \u001b[1;33m\u001b[0m\u001b[0m\n\u001b[1;32m----> 7\u001b[1;33m \u001b[0madd\u001b[0m\u001b[1;33m(\u001b[0m\u001b[1;36m10\u001b[0m\u001b[1;33m,\u001b[0m\u001b[1;36m20\u001b[0m\u001b[1;33m)\u001b[0m\u001b[1;33m\u001b[0m\u001b[1;33m\u001b[0m\u001b[0m\n\u001b[0m\u001b[0;32m      8\u001b[0m \u001b[0madd\u001b[0m\u001b[1;33m(\u001b[0m\u001b[1;36m10\u001b[0m\u001b[1;33m,\u001b[0m\u001b[1;36m20\u001b[0m\u001b[1;33m,\u001b[0m\u001b[1;36m30\u001b[0m\u001b[1;33m)\u001b[0m\u001b[1;33m\u001b[0m\u001b[1;33m\u001b[0m\u001b[0m\n",
      "\u001b[1;31mTypeError\u001b[0m: add() missing 1 required positional argument: 'z'"
     ]
    }
   ],
   "source": [
    "def add(x,y):\n",
    "    print(x+y)\n",
    "\n",
    "def add(x,y,z):\n",
    "    print(x+y+z)\n",
    "    \n",
    "add(10,20)\n",
    "add(10,20,30)\n"
   ]
  },
  {
   "cell_type": "code",
   "execution_count": 51,
   "metadata": {},
   "outputs": [
    {
     "name": "stdout",
     "output_type": "stream",
     "text": [
      "101 1000\n",
      "102 1000\n",
      "103 5000\n"
     ]
    }
   ],
   "source": [
    "class account:\n",
    "    def __init__(self,a,b=1000):\n",
    "        self.acn=a\n",
    "        self.bal=b\n",
    "        \n",
    "a1=account(101)\n",
    "print(a1.acn,a1.bal)\n",
    "\n",
    "a2=account(102)\n",
    "print(a2.acn,a2.bal)\n",
    "\n",
    "a3=account(103,5000)\n",
    "print(a3.acn,a3.bal)"
   ]
  },
  {
   "cell_type": "code",
   "execution_count": null,
   "metadata": {},
   "outputs": [],
   "source": []
  }
 ],
 "metadata": {
  "kernelspec": {
   "display_name": "Python 3",
   "language": "python",
   "name": "python3"
  },
  "language_info": {
   "codemirror_mode": {
    "name": "ipython",
    "version": 3
   },
   "file_extension": ".py",
   "mimetype": "text/x-python",
   "name": "python",
   "nbconvert_exporter": "python",
   "pygments_lexer": "ipython3",
   "version": "3.8.5"
  }
 },
 "nbformat": 4,
 "nbformat_minor": 4
}
