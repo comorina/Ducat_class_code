{
 "cells": [
  {
   "cell_type": "code",
   "execution_count": 36,
   "metadata": {},
   "outputs": [
    {
     "name": "stdout",
     "output_type": "stream",
     "text": [
      "pytho\n",
      "5\n",
      "n i\n",
      "ngu\n"
     ]
    }
   ],
   "source": [
    "file=open(\"d:/msg.txt\",\"r\")\n",
    "text=file.read(5)\n",
    "print(text)\n",
    "print(file.tell())\n",
    "text=file.read(3)\n",
    "print(text)\n",
    "\n",
    "file.seek(20)\n",
    "text=file.read(3)\n",
    "print(text)\n",
    "file.close()"
   ]
  },
  {
   "cell_type": "code",
   "execution_count": 5,
   "metadata": {},
   "outputs": [],
   "source": [
    "file=open(\"d:/msg.txt\",\"r\")"
   ]
  },
  {
   "cell_type": "code",
   "execution_count": 6,
   "metadata": {},
   "outputs": [],
   "source": [
    "text=file.read(-1)"
   ]
  },
  {
   "cell_type": "code",
   "execution_count": 7,
   "metadata": {},
   "outputs": [
    {
     "name": "stdout",
     "output_type": "stream",
     "text": [
      "python is a funny language\n",
      "it was first released in in 1991 by Guido van rossum.\n",
      "india is a country\n"
     ]
    }
   ],
   "source": [
    "print(text)"
   ]
  },
  {
   "cell_type": "code",
   "execution_count": 8,
   "metadata": {},
   "outputs": [],
   "source": [
    "file.close()"
   ]
  },
  {
   "cell_type": "code",
   "execution_count": 9,
   "metadata": {},
   "outputs": [
    {
     "name": "stdout",
     "output_type": "stream",
     "text": [
      "python is a funny language\n",
      "it was first released in in 1991 by Guido van rossum.\n",
      "india is a country\n"
     ]
    }
   ],
   "source": [
    "file=open(\"d:/msg.txt\",\"r\")\n",
    "text=file.read()\n",
    "print(text)\n",
    "file.close()"
   ]
  },
  {
   "cell_type": "code",
   "execution_count": 10,
   "metadata": {},
   "outputs": [
    {
     "name": "stdout",
     "output_type": "stream",
     "text": [
      "python is a funny language\n",
      "it was first released in in 1991 by Guido van rossum.\n",
      "india is a country\n"
     ]
    }
   ],
   "source": [
    "file=open(\"d:/msg.abc\",\"r\")\n",
    "text=file.read()\n",
    "print(text)\n",
    "file.close()"
   ]
  },
  {
   "cell_type": "code",
   "execution_count": 11,
   "metadata": {},
   "outputs": [
    {
     "name": "stdout",
     "output_type": "stream",
     "text": [
      "\n"
     ]
    }
   ],
   "source": [
    "file=open(\"d:/msg.txt\",\"r\")\n",
    "text=file.read()\n",
    "text=file.read()\n",
    "print(text)\n",
    "file.close()"
   ]
  },
  {
   "cell_type": "code",
   "execution_count": 15,
   "metadata": {},
   "outputs": [
    {
     "name": "stdout",
     "output_type": "stream",
     "text": [
      "python is a funny language\n",
      "it was first released in in 1991 by Guido van rossum.\n",
      "india is a country\n",
      "python is a funny language\n",
      "it was first released in in 1991 by Guido van rossum.\n",
      "india is a country\n"
     ]
    }
   ],
   "source": [
    "file=open(\"d:/msg.txt\",\"r\")\n",
    "text=file.read()\n",
    "print(text)\n",
    "file.seek(0)\n",
    "text=file.read()\n",
    "print(text)\n",
    "file.close()"
   ]
  },
  {
   "cell_type": "code",
   "execution_count": 18,
   "metadata": {},
   "outputs": [
    {
     "name": "stdout",
     "output_type": "stream",
     "text": [
      "python is a funny language\n",
      "\n",
      "it was first released in in 1991 by Guido van rossum.\n",
      "\n"
     ]
    }
   ],
   "source": [
    "file=open(\"d:/msg.txt\",\"r\")\n",
    "line1=file.readline()\n",
    "print(line1)\n",
    "line2=file.readline()\n",
    "print(line2)\n",
    "file.close()"
   ]
  },
  {
   "cell_type": "code",
   "execution_count": 19,
   "metadata": {},
   "outputs": [
    {
     "name": "stdout",
     "output_type": "stream",
     "text": [
      "python is a funny language\n",
      "\n",
      "it was first released in in 1991 by Guido van rossum.\n",
      "\n",
      "india is a country\n"
     ]
    }
   ],
   "source": [
    "file=open(\"d:/msg.txt\",\"r\")\n",
    "for line in file:\n",
    "    print(line)\n",
    "file.close()"
   ]
  },
  {
   "cell_type": "code",
   "execution_count": 20,
   "metadata": {},
   "outputs": [
    {
     "name": "stdout",
     "output_type": "stream",
     "text": [
      "python is a funny language\n",
      "it was first released in in 1991 by Guido van rossum.\n",
      "india is a country"
     ]
    }
   ],
   "source": [
    "file=open(\"d:/msg.txt\",\"r\")\n",
    "for line in file:\n",
    "    print(line,end=\"\")\n",
    "file.close()"
   ]
  },
  {
   "cell_type": "code",
   "execution_count": 21,
   "metadata": {},
   "outputs": [
    {
     "name": "stdout",
     "output_type": "stream",
     "text": [
      "1 python is a funny language\n",
      "2 it was first released in in 1991 by Guido van rossum.\n",
      "3 india is a country"
     ]
    }
   ],
   "source": [
    "file=open(\"d:/msg.txt\",\"r\")\n",
    "i=1\n",
    "for line in file:\n",
    "    print(i,line,end=\"\")\n",
    "    i+=1\n",
    "file.close()"
   ]
  },
  {
   "cell_type": "code",
   "execution_count": 24,
   "metadata": {},
   "outputs": [
    {
     "name": "stdin",
     "output_type": "stream",
     "text": [
      "enter filepath: p50.py\n"
     ]
    },
    {
     "name": "stdout",
     "output_type": "stream",
     "text": [
      "i=1\n",
      "while(i<5):\n",
      "    print(\"apple\")\n",
      "    i+=1\n",
      "    if(i%2==0):\n",
      "        continue\n",
      "    print(\"mango\")\n",
      "print(\"bye\")\n"
     ]
    }
   ],
   "source": [
    "file=open(input(\"enter filepath:\"),\"r\")\n",
    "i=1\n",
    "for line in file:\n",
    "    print(i,line,end=\"\")\n",
    "    i+=1\n",
    "file.close()"
   ]
  },
  {
   "cell_type": "code",
   "execution_count": 25,
   "metadata": {},
   "outputs": [
    {
     "name": "stdout",
     "output_type": "stream",
     "text": [
      "['python is a funny language\\n', 'it was first released in in 1991 by Guido van rossum.\\n', 'india is a country']\n"
     ]
    }
   ],
   "source": [
    "file=open(\"d:/msg.txt\",\"r\")\n",
    "list_lines=file.readlines()\n",
    "print(list_lines)\n",
    "file.close()"
   ]
  },
  {
   "cell_type": "code",
   "execution_count": 35,
   "metadata": {},
   "outputs": [
    {
     "name": "stdout",
     "output_type": "stream",
     "text": [
      "Chars: 99\n",
      "Words: 20\n",
      "Lines: 3\n",
      "101\n"
     ]
    }
   ],
   "source": [
    "file=open(\"d:/msg.txt\",\"r\")\n",
    "text=file.read()\n",
    "words=text.split()\n",
    "print(\"Chars:\",len(text))\n",
    "print(\"Words:\",len(words))\n",
    "file.seek(0)\n",
    "lines=file.readlines()\n",
    "print(\"Lines:\",len(lines))\n",
    "print(file.tell())"
   ]
  },
  {
   "cell_type": "code",
   "execution_count": 37,
   "metadata": {},
   "outputs": [],
   "source": [
    "import sys"
   ]
  },
  {
   "cell_type": "code",
   "execution_count": 38,
   "metadata": {},
   "outputs": [
    {
     "name": "stdout",
     "output_type": "stream",
     "text": [
      "hii"
     ]
    }
   ],
   "source": [
    "sys.stdout.write(\"hii\")"
   ]
  },
  {
   "cell_type": "code",
   "execution_count": 39,
   "metadata": {},
   "outputs": [
    {
     "name": "stderr",
     "output_type": "stream",
     "text": [
      "hii"
     ]
    }
   ],
   "source": [
    "sys.stderr.write(\"hii\")"
   ]
  },
  {
   "cell_type": "code",
   "execution_count": null,
   "metadata": {},
   "outputs": [],
   "source": []
  }
 ],
 "metadata": {
  "kernelspec": {
   "display_name": "Python 3",
   "language": "python",
   "name": "python3"
  },
  "language_info": {
   "codemirror_mode": {
    "name": "ipython",
    "version": 3
   },
   "file_extension": ".py",
   "mimetype": "text/x-python",
   "name": "python",
   "nbconvert_exporter": "python",
   "pygments_lexer": "ipython3",
   "version": "3.8.5"
  }
 },
 "nbformat": 4,
 "nbformat_minor": 4
}
