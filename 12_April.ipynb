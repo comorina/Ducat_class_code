{
 "cells": [
  {
   "cell_type": "code",
   "execution_count": 1,
   "metadata": {},
   "outputs": [],
   "source": [
    "class test(object):\n",
    "    pass\n",
    "\n",
    "class other(test):\n",
    "    pass"
   ]
  },
  {
   "cell_type": "code",
   "execution_count": 2,
   "metadata": {},
   "outputs": [],
   "source": [
    "obj=object()"
   ]
  },
  {
   "cell_type": "code",
   "execution_count": 30,
   "metadata": {},
   "outputs": [
    {
     "data": {
      "text/plain": [
       "['__class__',\n",
       " '__delattr__',\n",
       " '__dict__',\n",
       " '__dir__',\n",
       " '__doc__',\n",
       " '__eq__',\n",
       " '__format__',\n",
       " '__ge__',\n",
       " '__getattribute__',\n",
       " '__gt__',\n",
       " '__hash__',\n",
       " '__init__',\n",
       " '__init_subclass__',\n",
       " '__le__',\n",
       " '__lt__',\n",
       " '__module__',\n",
       " '__ne__',\n",
       " '__new__',\n",
       " '__reduce__',\n",
       " '__reduce_ex__',\n",
       " '__repr__',\n",
       " '__setattr__',\n",
       " '__sizeof__',\n",
       " '__str__',\n",
       " '__subclasshook__',\n",
       " '__weakref__',\n",
       " 'eating']"
      ]
     },
     "execution_count": 30,
     "metadata": {},
     "output_type": "execute_result"
    }
   ],
   "source": [
    "dir(obj)\n",
    "#help(obj)"
   ]
  },
  {
   "cell_type": "markdown",
   "metadata": {},
   "source": [
    "# method overriding"
   ]
  },
  {
   "cell_type": "code",
   "execution_count": 8,
   "metadata": {},
   "outputs": [
    {
     "name": "stdout",
     "output_type": "stream",
     "text": [
      "using zoom,google,youtube..\n",
      "2bhk flat,car,gold\n"
     ]
    }
   ],
   "source": [
    "class parent:\n",
    "    def study(self):\n",
    "        print(\"using books..\")\n",
    "    def property(self):\n",
    "        print(\"2bhk flat,car,gold\")\n",
    "\n",
    "class child(parent):\n",
    "    def study(self):\n",
    "        print(\"using zoom,google,youtube..\")\n",
    "\n",
    "c=child()\n",
    "c.study()\n",
    "c.property()"
   ]
  },
  {
   "cell_type": "code",
   "execution_count": 11,
   "metadata": {},
   "outputs": [
    {
     "name": "stdout",
     "output_type": "stream",
     "text": [
      "m in A\n",
      "m in B\n"
     ]
    }
   ],
   "source": [
    "class A:\n",
    "    def m(self):\n",
    "        print(\"m in A\")\n",
    "\n",
    "class B(A):\n",
    "    def m(self):\n",
    "        super().m()\n",
    "        print(\"m in B\")\n",
    "          \n",
    "b=B()\n",
    "b.m()"
   ]
  },
  {
   "cell_type": "markdown",
   "metadata": {},
   "source": [
    "# polymorphic call"
   ]
  },
  {
   "cell_type": "code",
   "execution_count": 14,
   "metadata": {},
   "outputs": [
    {
     "name": "stdout",
     "output_type": "stream",
     "text": [
      "pizza,burger,.....\n",
      "according to diet plan\n",
      "baby food..\n"
     ]
    }
   ],
   "source": [
    "class student:\n",
    "    def eating(self):\n",
    "        print(\"pizza,burger,.....\")\n",
    "        \n",
    "class actor:\n",
    "    def eating(self):\n",
    "        print(\"according to diet plan\")\n",
    "        \n",
    "class baby:\n",
    "    def eating(self):\n",
    "        print(\"baby food..\")\n",
    "        \n",
    "obj=student()\n",
    "obj.eating()\n",
    "\n",
    "obj=actor()\n",
    "obj.eating()\n",
    "\n",
    "obj=baby()\n",
    "obj.eating()"
   ]
  },
  {
   "cell_type": "code",
   "execution_count": 15,
   "metadata": {},
   "outputs": [
    {
     "name": "stdout",
     "output_type": "stream",
     "text": [
      "pizza,burger,.....\n",
      "according to diet plan\n",
      "baby food..\n"
     ]
    }
   ],
   "source": [
    "class student:\n",
    "    def eating(self):\n",
    "        print(\"pizza,burger,.....\")\n",
    "        \n",
    "class actor:\n",
    "    def eating(self):\n",
    "        print(\"according to diet plan\")\n",
    "        \n",
    "class baby:\n",
    "    def eating(self):\n",
    "        print(\"baby food..\")\n",
    "        \n",
    "l=[student(),actor(),baby()]\n",
    "for obj in l:\n",
    "    obj.eating() #polymorphic method call"
   ]
  },
  {
   "cell_type": "markdown",
   "metadata": {},
   "source": [
    "# operator overloading"
   ]
  },
  {
   "cell_type": "code",
   "execution_count": 18,
   "metadata": {},
   "outputs": [
    {
     "name": "stdout",
     "output_type": "stream",
     "text": [
      "30\n",
      "ab\n",
      "[10, 20, 30, 40]\n"
     ]
    }
   ],
   "source": [
    "x=10\n",
    "y=20\n",
    "print(x+y) \n",
    "x=\"a\"\n",
    "y=\"b\"\n",
    "print(x+y)\n",
    "x=[10,20]\n",
    "y=[30,40]\n",
    "print(x+y)"
   ]
  },
  {
   "cell_type": "code",
   "execution_count": 28,
   "metadata": {},
   "outputs": [
    {
     "name": "stdout",
     "output_type": "stream",
     "text": [
      "1\n",
      "5\n",
      "False\n"
     ]
    }
   ],
   "source": [
    "class A:\n",
    "    def __add__(self,other):\n",
    "        return 1\n",
    "    def __sub__(self,other):\n",
    "        return 5\n",
    "x=A()\n",
    "y=A()\n",
    "print(x+y)\n",
    "print(x-y)\n",
    "print(x==y)"
   ]
  },
  {
   "cell_type": "code",
   "execution_count": 45,
   "metadata": {},
   "outputs": [
    {
     "name": "stdout",
     "output_type": "stream",
     "text": [
      "(7, 6)\n",
      "(4, 9)\n"
     ]
    }
   ],
   "source": [
    "class point2d:\n",
    "    def __init__(self,a,b):\n",
    "        self.x=a\n",
    "        self.y=b\n",
    "    def __add__(self,other):\n",
    "       return (self.x+other.x,self.y+other.y)\n",
    "p1=point2d(2,3)  \n",
    "p2=point2d(5,3)\n",
    "p3=point2d(2,6)\n",
    "print(p1+p2)    \n",
    "print(p1+p3)"
   ]
  },
  {
   "cell_type": "code",
   "execution_count": null,
   "metadata": {},
   "outputs": [],
   "source": []
  }
 ],
 "metadata": {
  "kernelspec": {
   "display_name": "Python 3",
   "language": "python",
   "name": "python3"
  },
  "language_info": {
   "codemirror_mode": {
    "name": "ipython",
    "version": 3
   },
   "file_extension": ".py",
   "mimetype": "text/x-python",
   "name": "python",
   "nbconvert_exporter": "python",
   "pygments_lexer": "ipython3",
   "version": "3.8.5"
  }
 },
 "nbformat": 4,
 "nbformat_minor": 4
}
