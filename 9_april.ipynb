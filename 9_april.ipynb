{
 "cells": [
  {
   "cell_type": "code",
   "execution_count": 4,
   "metadata": {},
   "outputs": [
    {
     "name": "stdout",
     "output_type": "stream",
     "text": [
      "101 abc1234\n",
      "102 abc1234\n",
      "1001\n",
      "102\n",
      "pqr321\n",
      "pqr321\n",
      "xyz101\n",
      "pqr321\n"
     ]
    }
   ],
   "source": [
    "class account:\n",
    "    ifsc=\"abc1234\"        #class/static data member\n",
    "    def __init__(self,a):\n",
    "        self.acn=a        #instance data member\n",
    "a1=account(101)\n",
    "a2=account(102)\n",
    "print(a1.acn,a1.ifsc)\n",
    "print(a2.acn,a2.ifsc)\n",
    "a1.acn=1001\n",
    "print(a1.acn)\n",
    "print(a2.acn)\n",
    "account.ifsc=\"pqr321\"\n",
    "print(a1.ifsc)\n",
    "print(a2.ifsc)\n",
    "a1.ifsc=\"xyz101\"\n",
    "print(a1.ifsc)\n",
    "print(a2.ifsc)"
   ]
  },
  {
   "cell_type": "code",
   "execution_count": 7,
   "metadata": {},
   "outputs": [
    {
     "name": "stdout",
     "output_type": "stream",
     "text": [
      "this is m1\n",
      "this is m2\n",
      "this is m2\n",
      "this is m3\n",
      "this is m3\n"
     ]
    }
   ],
   "source": [
    "class test:\n",
    "    def m1(self):            #instance method\n",
    "        print(\"this is m1\")\n",
    "     \n",
    "    @classmethod\n",
    "    def m2(cls):             #class method\n",
    "        print(\"this is m2\")\n",
    "        \n",
    "    @staticmethod\n",
    "    def m3():               #static method\n",
    "        print(\"this is m3\")       \n",
    "t=test()\n",
    "t.m1()\n",
    "t.m2()\n",
    "test.m2()\n",
    "t.m3()\n",
    "test.m3()"
   ]
  },
  {
   "cell_type": "code",
   "execution_count": 8,
   "metadata": {},
   "outputs": [
    {
     "name": "stdout",
     "output_type": "stream",
     "text": [
      "5\n",
      "11\n"
     ]
    }
   ],
   "source": [
    "class calc:\n",
    "    def __init__(self,x,y):\n",
    "        self.i=x\n",
    "        self.j=y\n",
    "\n",
    "    def add(self):\n",
    "        print(self.i+self.j)\n",
    "        \n",
    "c1=calc(2,3)\n",
    "c2=calc(5,6)\n",
    "c1.add()\n",
    "c2.add()"
   ]
  },
  {
   "cell_type": "code",
   "execution_count": 5,
   "metadata": {},
   "outputs": [
    {
     "name": "stdout",
     "output_type": "stream",
     "text": [
      "30\n"
     ]
    }
   ],
   "source": [
    "class calc:\n",
    "    i=10\n",
    "    j=20\n",
    "   \n",
    "    @classmethod\n",
    "    def add(cls):\n",
    "        print(cls.i+cls.j)\n",
    "        \n",
    "calc.add()"
   ]
  },
  {
   "cell_type": "code",
   "execution_count": 7,
   "metadata": {},
   "outputs": [
    {
     "name": "stdout",
     "output_type": "stream",
     "text": [
      "5\n"
     ]
    }
   ],
   "source": [
    "class calc:\n",
    "  \n",
    "    @staticmethod\n",
    "    def add(i,j):\n",
    "        print(i+j)\n",
    "        \n",
    "calc.add(2,3)"
   ]
  },
  {
   "cell_type": "code",
   "execution_count": 8,
   "metadata": {},
   "outputs": [
    {
     "name": "stdout",
     "output_type": "stream",
     "text": [
      "30\n"
     ]
    }
   ],
   "source": [
    "class test:\n",
    "    a=10\n",
    "    b=20\n",
    "    print(a+b)"
   ]
  },
  {
   "cell_type": "code",
   "execution_count": 10,
   "metadata": {},
   "outputs": [
    {
     "name": "stdin",
     "output_type": "stream",
     "text": [
      "enter num: 13\n"
     ]
    },
    {
     "name": "stdout",
     "output_type": "stream",
     "text": [
      "odd\n"
     ]
    }
   ],
   "source": [
    "class test:\n",
    "    num=int(input(\"enter num:\"))\n",
    "    if(num%2==0):\n",
    "        print(\"even\")\n",
    "    else:\n",
    "        print(\"odd\")"
   ]
  },
  {
   "cell_type": "code",
   "execution_count": 11,
   "metadata": {},
   "outputs": [
    {
     "data": {
      "text/plain": [
       "<__main__.test at 0x208f438b2b0>"
      ]
     },
     "execution_count": 11,
     "metadata": {},
     "output_type": "execute_result"
    }
   ],
   "source": [
    "test()"
   ]
  },
  {
   "cell_type": "code",
   "execution_count": 12,
   "metadata": {},
   "outputs": [
    {
     "data": {
      "text/plain": [
       "<__main__.test at 0x208f43a3940>"
      ]
     },
     "execution_count": 12,
     "metadata": {},
     "output_type": "execute_result"
    }
   ],
   "source": [
    "test()"
   ]
  },
  {
   "cell_type": "code",
   "execution_count": 13,
   "metadata": {},
   "outputs": [
    {
     "name": "stdout",
     "output_type": "stream",
     "text": [
      "tring tring...\n"
     ]
    }
   ],
   "source": [
    "class telephone:\n",
    "    def calling(self):\n",
    "        print(\"tring tring...\")\n",
    "t=telephone()\n",
    "t.calling()"
   ]
  },
  {
   "cell_type": "code",
   "execution_count": 16,
   "metadata": {},
   "outputs": [
    {
     "name": "stdout",
     "output_type": "stream",
     "text": [
      "tring tring...\n",
      "hii\n"
     ]
    }
   ],
   "source": [
    "class mobile(telephone):\n",
    "    def msging(self):\n",
    "        print('hii')\n",
    "m=mobile()\n",
    "m.calling()\n",
    "m.msging()"
   ]
  },
  {
   "cell_type": "markdown",
   "metadata": {},
   "source": [
    "## multi level"
   ]
  },
  {
   "cell_type": "code",
   "execution_count": 17,
   "metadata": {},
   "outputs": [
    {
     "name": "stdout",
     "output_type": "stream",
     "text": [
      "tring tring...\n",
      "hii\n",
      "touch...\n"
     ]
    }
   ],
   "source": [
    "class telephone:\n",
    "    def calling(self):\n",
    "        print(\"tring tring...\")\n",
    "        \n",
    "class mobile(telephone):\n",
    "    def msging(self):\n",
    "        print('hii')\n",
    "        \n",
    "class smartphone(mobile):\n",
    "    def touchscreen(self):\n",
    "        print(\"touch...\")\n",
    "        \n",
    "s=smartphone()\n",
    "s.calling()\n",
    "s.msging()\n",
    "s.touchscreen()"
   ]
  },
  {
   "cell_type": "markdown",
   "metadata": {},
   "source": [
    "## multiple"
   ]
  },
  {
   "cell_type": "code",
   "execution_count": 18,
   "metadata": {},
   "outputs": [
    {
     "name": "stdout",
     "output_type": "stream",
     "text": [
      "tring tring...\n",
      "hii\n",
      "picture...\n"
     ]
    }
   ],
   "source": [
    "class telephone:\n",
    "    def calling(self):\n",
    "        print(\"tring tring...\")\n",
    "\n",
    "class camera:\n",
    "    def picture(self):\n",
    "        print(\"picture...\")\n",
    "        \n",
    "class mobile(telephone,camera):\n",
    "    def msging(self):\n",
    "        print('hii')\n",
    "    \n",
    "m=mobile()\n",
    "m.calling()\n",
    "m.msging()\n",
    "m.picture()"
   ]
  },
  {
   "cell_type": "code",
   "execution_count": 20,
   "metadata": {},
   "outputs": [
    {
     "name": "stdout",
     "output_type": "stream",
     "text": [
      "m1 in A\n",
      "m1 in B\n"
     ]
    }
   ],
   "source": [
    "class A:\n",
    "    def m1(self):\n",
    "        print(\"m1 in A\")\n",
    "class B:\n",
    "    def m1(self):\n",
    "        print(\"m1 in B\")\n",
    "        \n",
    "class C(A,B):\n",
    "    pass\n",
    "obj=C()\n",
    "obj.m1()\n",
    "\n",
    "        \n",
    "class C(B,A):\n",
    "    pass\n",
    "obj=C()\n",
    "obj.m1()\n",
    "\n"
   ]
  },
  {
   "cell_type": "code",
   "execution_count": null,
   "metadata": {},
   "outputs": [],
   "source": []
  }
 ],
 "metadata": {
  "kernelspec": {
   "display_name": "Python 3",
   "language": "python",
   "name": "python3"
  },
  "language_info": {
   "codemirror_mode": {
    "name": "ipython",
    "version": 3
   },
   "file_extension": ".py",
   "mimetype": "text/x-python",
   "name": "python",
   "nbconvert_exporter": "python",
   "pygments_lexer": "ipython3",
   "version": "3.8.5"
  }
 },
 "nbformat": 4,
 "nbformat_minor": 4
}
