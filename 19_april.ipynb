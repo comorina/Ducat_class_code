{
 "cells": [
  {
   "cell_type": "code",
   "execution_count": 1,
   "metadata": {},
   "outputs": [],
   "source": [
    "from tkinter import *\n",
    "win=Tk()\n",
    "win.mainloop() #makes window visible"
   ]
  },
  {
   "cell_type": "code",
   "execution_count": 11,
   "metadata": {},
   "outputs": [],
   "source": [
    "from tkinter import *\n",
    "win=Tk()\n",
    "win.geometry(\"500x300\")\n",
    "#win.state('zoomed') #to make fullscreen win\n",
    "win.configure(bg='yellow')\n",
    "win.resizable(width=False,height=False)\n",
    "win.mainloop() #makes window visible"
   ]
  },
  {
   "cell_type": "code",
   "execution_count": 39,
   "metadata": {},
   "outputs": [],
   "source": [
    "from tkinter import *\n",
    "win=Tk()\n",
    "win.geometry(\"500x300\")\n",
    "win.configure(bg='yellow')\n",
    "win.resizable(width=False,height=False)\n",
    "\n",
    "b1=Button(win,bd=7,text=\"submit\",width=7,bg='red',fg='white',font=('',15,'bold'))\n",
    "b2=Button(win,text=\"ok\",width=7,font=('',15,'bold'),bd=7)\n",
    "\n",
    "\"\"\"\n",
    "#absolute positions\n",
    "b1.place(x=20,y=50)\n",
    "b2.place(x=80,y=50)\n",
    "\"\"\"\n",
    "#relative positions\n",
    "b1.place(relx=.1,rely=.1)\n",
    "b2.place(relx=.35,rely=.1)\n",
    "win.mainloop() "
   ]
  },
  {
   "cell_type": "code",
   "execution_count": 54,
   "metadata": {},
   "outputs": [],
   "source": [
    "from tkinter import *\n",
    "win=Tk()\n",
    "win.geometry(\"500x300\")\n",
    "win.configure(bg='yellow')\n",
    "win.resizable(width=False,height=False)\n",
    "\n",
    "b1=Button(win,bd=7,text=\"submit\",width=7,font=('',10,'bold'))\n",
    "b2=Button(win,text=\"ok\",width=7,font=('',10,'bold'),bd=7)\n",
    "\n",
    "b1.pack(side='left',anchor='n')\n",
    "b2.pack(side='bottom',anchor='w',pady=10,ipady=20,ipadx=20)\n",
    "\n",
    "win.mainloop() "
   ]
  },
  {
   "cell_type": "code",
   "execution_count": null,
   "metadata": {},
   "outputs": [],
   "source": []
  }
 ],
 "metadata": {
  "kernelspec": {
   "display_name": "Python 3",
   "language": "python",
   "name": "python3"
  },
  "language_info": {
   "codemirror_mode": {
    "name": "ipython",
    "version": 3
   },
   "file_extension": ".py",
   "mimetype": "text/x-python",
   "name": "python",
   "nbconvert_exporter": "python",
   "pygments_lexer": "ipython3",
   "version": "3.8.5"
  }
 },
 "nbformat": 4,
 "nbformat_minor": 4
}
