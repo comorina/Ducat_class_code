{
 "cells": [
  {
   "cell_type": "code",
   "execution_count": 4,
   "metadata": {},
   "outputs": [],
   "source": [
    "file=open(\"abc.txt\",\"w\")\n",
    "file.write(\"this is python language\")\n",
    "file.write(\"\\n\")\n",
    "file.write(\"bharat\")\n",
    "#file.write(100)\n",
    "file.write(str(100))\n",
    "#file.flush()\n",
    "file.close() #internally calls flush() "
   ]
  },
  {
   "cell_type": "code",
   "execution_count": 5,
   "metadata": {},
   "outputs": [],
   "source": [
    "file=open(\"abc.txt\",\"a\")\n",
    "file.write(\"\\nind v/s eng 2nd ODI\")\n",
    "file.close()"
   ]
  },
  {
   "cell_type": "code",
   "execution_count": 12,
   "metadata": {},
   "outputs": [
    {
     "name": "stdout",
     "output_type": "stream",
     "text": [
      "apple\n",
      "mango\n"
     ]
    }
   ],
   "source": [
    "file=open(\"d:/mylog.txt\",\"a\")\n",
    "print(\"apple\")\n",
    "print(\"mango\")\n",
    "from datetime import datetime\n",
    "dt=datetime.now()\n",
    "file.write(str(dt))\n",
    "file.write(\"\\n-----------\\n\")\n",
    "file.close()"
   ]
  },
  {
   "cell_type": "code",
   "execution_count": 14,
   "metadata": {},
   "outputs": [
    {
     "ename": "FileExistsError",
     "evalue": "[Errno 17] File exists: 'xyz.txt'",
     "output_type": "error",
     "traceback": [
      "\u001b[1;31m---------------------------------------------------------------------------\u001b[0m",
      "\u001b[1;31mFileExistsError\u001b[0m                           Traceback (most recent call last)",
      "\u001b[1;32m<ipython-input-14-bec49b17f613>\u001b[0m in \u001b[0;36m<module>\u001b[1;34m\u001b[0m\n\u001b[1;32m----> 1\u001b[1;33m \u001b[0mfile\u001b[0m\u001b[1;33m=\u001b[0m\u001b[0mopen\u001b[0m\u001b[1;33m(\u001b[0m\u001b[1;34m\"xyz.txt\"\u001b[0m\u001b[1;33m,\u001b[0m\u001b[1;34m\"x\"\u001b[0m\u001b[1;33m)\u001b[0m\u001b[1;33m\u001b[0m\u001b[1;33m\u001b[0m\u001b[0m\n\u001b[0m\u001b[0;32m      2\u001b[0m \u001b[0mfile\u001b[0m\u001b[1;33m.\u001b[0m\u001b[0mwrite\u001b[0m\u001b[1;33m(\u001b[0m\u001b[1;34m\"hello\"\u001b[0m\u001b[1;33m)\u001b[0m\u001b[1;33m\u001b[0m\u001b[1;33m\u001b[0m\u001b[0m\n\u001b[0;32m      3\u001b[0m \u001b[0mfile\u001b[0m\u001b[1;33m.\u001b[0m\u001b[0mclose\u001b[0m\u001b[1;33m(\u001b[0m\u001b[1;33m)\u001b[0m\u001b[1;33m\u001b[0m\u001b[1;33m\u001b[0m\u001b[0m\n",
      "\u001b[1;31mFileExistsError\u001b[0m: [Errno 17] File exists: 'xyz.txt'"
     ]
    }
   ],
   "source": [
    "file=open(\"xyz.txt\",\"x\") #exclusive write\n",
    "file.write(\"hello\")\n",
    "file.close()"
   ]
  },
  {
   "cell_type": "code",
   "execution_count": 16,
   "metadata": {},
   "outputs": [
    {
     "name": "stdout",
     "output_type": "stream",
     "text": [
      "python is a funny language\n",
      "it was first released in in 1991 by Guido van rossum.\n",
      "india is a country\n"
     ]
    }
   ],
   "source": [
    "file=open(\"d:/msg.txt\",\"r+\") #read then write\n",
    "text=file.read()\n",
    "print(text)\n",
    "file.write(\"hi\")\n",
    "file.close()"
   ]
  },
  {
   "cell_type": "code",
   "execution_count": 18,
   "metadata": {},
   "outputs": [
    {
     "name": "stdout",
     "output_type": "stream",
     "text": [
      "hi...\n"
     ]
    }
   ],
   "source": [
    "file=open(\"d:/msg.txt\",\"w+\") #write then read\n",
    "file.write(\"hi...\")\n",
    "file.seek(0)\n",
    "text=file.read()\n",
    "print(text)\n",
    "file.close()"
   ]
  },
  {
   "cell_type": "code",
   "execution_count": null,
   "metadata": {},
   "outputs": [],
   "source": []
  }
 ],
 "metadata": {
  "kernelspec": {
   "display_name": "Python 3",
   "language": "python",
   "name": "python3"
  },
  "language_info": {
   "codemirror_mode": {
    "name": "ipython",
    "version": 3
   },
   "file_extension": ".py",
   "mimetype": "text/x-python",
   "name": "python",
   "nbconvert_exporter": "python",
   "pygments_lexer": "ipython3",
   "version": "3.8.5"
  }
 },
 "nbformat": 4,
 "nbformat_minor": 4
}
