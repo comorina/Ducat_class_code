{
 "cells": [
  {
   "cell_type": "code",
   "execution_count": 1,
   "metadata": {},
   "outputs": [],
   "source": [
    "import sqlite3 as sql"
   ]
  },
  {
   "cell_type": "code",
   "execution_count": 2,
   "metadata": {},
   "outputs": [
    {
     "name": "stdout",
     "output_type": "stream",
     "text": [
      "database & table created..\n"
     ]
    }
   ],
   "source": [
    "con=sql.connect(database=\"mydb.sqlite\")\n",
    "cursor=con.cursor()\n",
    "cursor.execute(\"create table emp(empid int primary key,name text,sal int)\")\n",
    "con.commit()\n",
    "con.close()\n",
    "print(\"database & table created..\")"
   ]
  },
  {
   "cell_type": "code",
   "execution_count": 5,
   "metadata": {},
   "outputs": [
    {
     "name": "stdout",
     "output_type": "stream",
     "text": [
      "record inserted\n"
     ]
    }
   ],
   "source": [
    "con=sql.connect(database=\"mydb.sqlite\")\n",
    "cursor=con.cursor()\n",
    "cursor.execute(\"insert into emp values(102,'monu',10000)\")\n",
    "con.commit()\n",
    "con.close()\n",
    "print(\"record inserted\")"
   ]
  },
  {
   "cell_type": "code",
   "execution_count": 8,
   "metadata": {},
   "outputs": [
    {
     "name": "stdout",
     "output_type": "stream",
     "text": [
      "[(101, 'sonu', 12000), (102, 'monu', 10000), (201, 'chintu', 5000)]\n"
     ]
    }
   ],
   "source": [
    "con=sql.connect(database=\"mydb.sqlite\")\n",
    "cursor=con.cursor()\n",
    "cursor.execute(\"select * from emp\")\n",
    "print(cursor.fetchall())\n",
    "con.close()"
   ]
  },
  {
   "cell_type": "code",
   "execution_count": 7,
   "metadata": {},
   "outputs": [
    {
     "name": "stdin",
     "output_type": "stream",
     "text": [
      "enter empid: 201\n",
      "enter name: chintu\n",
      "enter sal: 5000\n"
     ]
    },
    {
     "name": "stdout",
     "output_type": "stream",
     "text": [
      "record inserted\n"
     ]
    }
   ],
   "source": [
    "con=sql.connect(database=\"mydb.sqlite\")\n",
    "cursor=con.cursor()\n",
    "empid=int(input(\"enter empid:\"))\n",
    "name=input(\"enter name:\")\n",
    "sal=int(input(\"enter sal:\"))\n",
    "cursor.execute(\"insert into emp values(?,?,?)\",(empid,name,sal))\n",
    "con.commit()\n",
    "con.close()\n",
    "print(\"record inserted\")"
   ]
  },
  {
   "cell_type": "code",
   "execution_count": null,
   "metadata": {},
   "outputs": [],
   "source": []
  }
 ],
 "metadata": {
  "kernelspec": {
   "display_name": "Python 3",
   "language": "python",
   "name": "python3"
  },
  "language_info": {
   "codemirror_mode": {
    "name": "ipython",
    "version": 3
   },
   "file_extension": ".py",
   "mimetype": "text/x-python",
   "name": "python",
   "nbconvert_exporter": "python",
   "pygments_lexer": "ipython3",
   "version": "3.8.5"
  }
 },
 "nbformat": 4,
 "nbformat_minor": 4
}
